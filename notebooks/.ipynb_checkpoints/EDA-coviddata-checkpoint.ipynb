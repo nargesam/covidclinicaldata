{
 "cells": [
  {
   "cell_type": "code",
   "execution_count": 170,
   "metadata": {},
   "outputs": [
    {
     "name": "stdout",
     "output_type": "stream",
     "text": [
      "['04-07_carbonhealth_and_braidhealth.csv', '04-14_carbonhealth_and_braidhealth.csv', '04-21_carbonhealth_and_braidhealth.csv']\n"
     ]
    }
   ],
   "source": [
    "# 04-07_carbonhealth_and_braidhealth.csv\t04-21_carbonhealth_and_braidhealth.csv\n",
    "# 04-14_carbonhealth_and_braidhealth.csv\n",
    "\n",
    "\n",
    "%matplotlib inline\n",
    "\n",
    "\n",
    "import os \n",
    "\n",
    "import ipywidgets as widgets\n",
    "import matplotlib\n",
    "import matplotlib.gridspec as gridspec\n",
    "import matplotlib.pyplot as plt\n",
    "import pandas as pd\n",
    "import seaborn as sns\n",
    "\n",
    "from ipywidgets import interact, fixed\n",
    "\n",
    "sns.set_style('white')\n",
    "matplotlib.rcParams[\"figure.figsize\"] = (11,9)\n",
    "\n",
    "\n",
    "filepath  = '../data/'\n",
    "files = os.listdir(filepath)\n",
    "\n",
    "print(files)\n"
   ]
  },
  {
   "cell_type": "code",
   "execution_count": 3,
   "metadata": {},
   "outputs": [
    {
     "data": {
      "text/html": [
       "<div>\n",
       "<style scoped>\n",
       "    .dataframe tbody tr th:only-of-type {\n",
       "        vertical-align: middle;\n",
       "    }\n",
       "\n",
       "    .dataframe tbody tr th {\n",
       "        vertical-align: top;\n",
       "    }\n",
       "\n",
       "    .dataframe thead th {\n",
       "        text-align: right;\n",
       "    }\n",
       "</style>\n",
       "<table border=\"1\" class=\"dataframe\">\n",
       "  <thead>\n",
       "    <tr style=\"text-align: right;\">\n",
       "      <th></th>\n",
       "      <th>age</th>\n",
       "      <th>temperature</th>\n",
       "      <th>pulse</th>\n",
       "      <th>sys</th>\n",
       "      <th>dia</th>\n",
       "      <th>rr</th>\n",
       "      <th>sats</th>\n",
       "      <th>days_since_symptom_onset</th>\n",
       "    </tr>\n",
       "  </thead>\n",
       "  <tbody>\n",
       "    <tr>\n",
       "      <th>count</th>\n",
       "      <td>322.000000</td>\n",
       "      <td>311.000000</td>\n",
       "      <td>273.000000</td>\n",
       "      <td>273.000000</td>\n",
       "      <td>273.000000</td>\n",
       "      <td>245.000000</td>\n",
       "      <td>269.000000</td>\n",
       "      <td>126.000000</td>\n",
       "    </tr>\n",
       "    <tr>\n",
       "      <th>mean</th>\n",
       "      <td>42.118012</td>\n",
       "      <td>36.940193</td>\n",
       "      <td>84.413919</td>\n",
       "      <td>126.542125</td>\n",
       "      <td>78.827839</td>\n",
       "      <td>15.848980</td>\n",
       "      <td>97.858736</td>\n",
       "      <td>9.880952</td>\n",
       "    </tr>\n",
       "    <tr>\n",
       "      <th>std</th>\n",
       "      <td>15.240289</td>\n",
       "      <td>0.330115</td>\n",
       "      <td>13.459666</td>\n",
       "      <td>17.257752</td>\n",
       "      <td>10.564387</td>\n",
       "      <td>1.976721</td>\n",
       "      <td>1.519318</td>\n",
       "      <td>16.770740</td>\n",
       "    </tr>\n",
       "    <tr>\n",
       "      <th>min</th>\n",
       "      <td>4.000000</td>\n",
       "      <td>36.250000</td>\n",
       "      <td>54.000000</td>\n",
       "      <td>81.000000</td>\n",
       "      <td>43.000000</td>\n",
       "      <td>12.000000</td>\n",
       "      <td>93.000000</td>\n",
       "      <td>1.000000</td>\n",
       "    </tr>\n",
       "    <tr>\n",
       "      <th>25%</th>\n",
       "      <td>30.000000</td>\n",
       "      <td>36.725000</td>\n",
       "      <td>75.000000</td>\n",
       "      <td>114.000000</td>\n",
       "      <td>72.000000</td>\n",
       "      <td>15.000000</td>\n",
       "      <td>97.000000</td>\n",
       "      <td>2.000000</td>\n",
       "    </tr>\n",
       "    <tr>\n",
       "      <th>50%</th>\n",
       "      <td>40.500000</td>\n",
       "      <td>36.900000</td>\n",
       "      <td>82.000000</td>\n",
       "      <td>125.000000</td>\n",
       "      <td>80.000000</td>\n",
       "      <td>16.000000</td>\n",
       "      <td>98.000000</td>\n",
       "      <td>5.000000</td>\n",
       "    </tr>\n",
       "    <tr>\n",
       "      <th>75%</th>\n",
       "      <td>52.000000</td>\n",
       "      <td>37.100000</td>\n",
       "      <td>92.000000</td>\n",
       "      <td>137.000000</td>\n",
       "      <td>85.000000</td>\n",
       "      <td>17.000000</td>\n",
       "      <td>99.000000</td>\n",
       "      <td>9.250000</td>\n",
       "    </tr>\n",
       "    <tr>\n",
       "      <th>max</th>\n",
       "      <td>85.000000</td>\n",
       "      <td>38.350000</td>\n",
       "      <td>140.000000</td>\n",
       "      <td>190.000000</td>\n",
       "      <td>108.000000</td>\n",
       "      <td>25.000000</td>\n",
       "      <td>100.000000</td>\n",
       "      <td>120.000000</td>\n",
       "    </tr>\n",
       "  </tbody>\n",
       "</table>\n",
       "</div>"
      ],
      "text/plain": [
       "              age  temperature       pulse         sys         dia  \\\n",
       "count  322.000000   311.000000  273.000000  273.000000  273.000000   \n",
       "mean    42.118012    36.940193   84.413919  126.542125   78.827839   \n",
       "std     15.240289     0.330115   13.459666   17.257752   10.564387   \n",
       "min      4.000000    36.250000   54.000000   81.000000   43.000000   \n",
       "25%     30.000000    36.725000   75.000000  114.000000   72.000000   \n",
       "50%     40.500000    36.900000   82.000000  125.000000   80.000000   \n",
       "75%     52.000000    37.100000   92.000000  137.000000   85.000000   \n",
       "max     85.000000    38.350000  140.000000  190.000000  108.000000   \n",
       "\n",
       "               rr        sats  days_since_symptom_onset  \n",
       "count  245.000000  269.000000                126.000000  \n",
       "mean    15.848980   97.858736                  9.880952  \n",
       "std      1.976721    1.519318                 16.770740  \n",
       "min     12.000000   93.000000                  1.000000  \n",
       "25%     15.000000   97.000000                  2.000000  \n",
       "50%     16.000000   98.000000                  5.000000  \n",
       "75%     17.000000   99.000000                  9.250000  \n",
       "max     25.000000  100.000000                120.000000  "
      ]
     },
     "execution_count": 3,
     "metadata": {},
     "output_type": "execute_result"
    }
   ],
   "source": [
    "datapath = '../data/04-21_carbonhealth_and_braidhealth.csv'\n",
    "data = pd.read_csv(datapath)\n",
    "\n",
    "data.describe()"
   ]
  },
  {
   "cell_type": "code",
   "execution_count": 177,
   "metadata": {},
   "outputs": [],
   "source": [
    "data.head()\n",
    "# len(data) #322\n",
    "# data.columns\n",
    "data = data.fillna('Not_Measured')"
   ]
  },
  {
   "cell_type": "code",
   "execution_count": 114,
   "metadata": {},
   "outputs": [
    {
     "data": {
      "image/png": "[encoded data removed]",
      "text/plain": [
       "<Figure size 792x648 with 1 Axes>"
      ]
     },
     "metadata": {},
     "output_type": "display_data"
    }
   ],
   "source": [
    "# data.apply(pd.value_counts)\n",
    "\n",
    "\n",
    "fields_categorical = ['clinic_state', 'test_name', 'swab_type' , 'covid19_test_results' ]\n",
    "\n",
    "#                       ,'covid19_test_results' , 'high_risk_exposure_occupation'  ,\n",
    "#        'high_risk_interactions'  ]#, 'diabetes', 'chd', 'htn', 'cancer', 'asthma',\n",
    "#        'copd', 'autoimmune_dis',  'rapid_flu_results', 'rapid_strep_results',\n",
    "#         'ctab', 'labored_respiration', 'rhonchi',\n",
    "#        'wheezes', 'cough', 'cough_severity', 'fever', 'sob', 'sob_severity',\n",
    "#        'diarrhea', 'fatigue', 'headache', 'loss_of_smell', 'loss_of_taste',\n",
    "#        'runny_nose', 'muscle_sore', 'sore_throat', 'er_referral']\n",
    "\n",
    "fields_decriptive = ['cxr_findings', 'cxr_impression', 'cxr_link']\n",
    "\n",
    "\n",
    "fields_numerical = ['date_published', 'age', 'temperature', 'pulse',  'sys', 'dia', 'rr', 'sats','days_since_symptom_onset']\n",
    "\n",
    "\n",
    "# fig1, axes = plt.subplots(2,2)\n",
    "\n",
    "\n",
    "# print(axes)\n",
    "# print(fig1)\n",
    "\n",
    "plotdata = data['swab_type'].value_counts()\n",
    "bars = plt.bar(plotdata.index,plotdata.values)\n",
    "plt.title('swab type')\n",
    "for bar in bars: \n",
    "    yval = bar.get_height()\n",
    "    plt.text(bar.get_x() + .3,  yval + .5 , yval)\n",
    "\n",
    "\n",
    "# for i, field in enumerate(fields_categorical):\n",
    "#     plotdata = data[field].value_counts()\n",
    "#     plt.subplot(2,2,i+1)\n",
    "#     bars = plt.bar(plotdata.index,plotdata.values)\n",
    "#     plt.title(field)\n",
    "#     for bar in bars:\n",
    "#         yval = bar.get_height()\n",
    "#         plt.text(bar.get_x() + .25, yval + .5, yval)\n",
    "    \n",
    "\n",
    "    "
   ]
  },
  {
   "cell_type": "code",
   "execution_count": 183,
   "metadata": {},
   "outputs": [
    {
     "data": {
      "application/vnd.jupyter.widget-view+json": {
       "model_id": "914040ba3a554a0ea96708927675f13b",
       "version_major": 2,
       "version_minor": 0
      },
      "text/plain": [
       "interactive(children=(Dropdown(description='col_name', options=('clinic_state', 'test_name', 'swab_type', 'cov…"
      ]
     },
     "metadata": {},
     "output_type": "display_data"
    }
   ],
   "source": [
    "\n",
    "col_name = ['clinic_state', 'test_name', 'swab_type' , 'covid19_test_results' ,'covid19_test_results' , 'high_risk_exposure_occupation'  ,\n",
    "       'high_risk_interactions' , 'diabetes', 'chd', 'htn', 'cancer', 'asthma',\n",
    "       'copd', 'autoimmune_dis',  'rapid_flu_results', 'rapid_strep_results',\n",
    "        'ctab', 'labored_respiration', 'rhonchi',\n",
    "       'wheezes', 'cough', 'cough_severity', 'fever', 'sob', 'sob_severity',\n",
    "       'diarrhea', 'fatigue', 'headache', 'loss_of_smell', 'loss_of_taste',\n",
    "       'runny_nose', 'muscle_sore', 'sore_throat', 'er_referral']\n",
    "\n",
    "\n",
    "@interact(col_name=col_name , data=fixed(data))\n",
    "def plot_categorical_counts(col_name, data, percentage=True):\n",
    "    \n",
    "    plot_data = pd.DataFrame(data[col_name] \\\n",
    "        .value_counts()) \\\n",
    "        .reset_index()\n",
    "    \n",
    "    plot_data.columns = [col_name, 'count']\n",
    "    plot_data['percentage'] = (plot_data['count'] / data.shape[0])\n",
    "\n",
    "\n",
    "    fig = plt.figure()\n",
    "    \n",
    "    ax = fig.add_subplot()\n",
    "    \n",
    "    if percentage:\n",
    "        y_col = \"percentage\"\n",
    "    else:\n",
    "        y_col = \"count\"\n",
    "        \n",
    "    ax = sns.barplot(y=y_col, x=col_name, data=plot_data, ax=ax)\n",
    "    ax.tick_params(axis='x', labelsize=14)\n",
    "    ax.tick_params(axis='y', labelsize=14)\n",
    "    ax.set_xlabel(col_name, fontsize=18)\n",
    "    ax.set_ylabel('percentage', fontsize=18)\n",
    "\n",
    "    sns.despine(offset=10, trim=False, ax=ax)\n",
    "    plt.tight_layout()\n",
    "    return ax, fig\n",
    "\n",
    "\n",
    "# ax_swb, _ = plot_categorical_counts('swab_type', data)   \n",
    "# ax_tst_res, _ = plot_categorical_counts('covid19_test_results', data)   \n",
    "\n",
    "\n",
    "  \n",
    "# fig = plt.figure()\n",
    "# ax_swb = fig.add_subplot()\n",
    "# ax_swb = sns.barplot(x='count', y='swab_type', data=plot_data, ax=ax_swb)\n",
    "# ax_swb.tick_params(axis='x', labelsize=14)\n",
    "# ax_swb.tick_params(axis='y', labelsize=14)\n",
    "# ax_swb.set_xlabel('Count', fontsize=18)\n",
    "# ax_swb.set_ylabel('Swab Type', fontsize=18)\n",
    "\n",
    "\n",
    "# sns.despine(offset=10, trim=False, ax=ax_swb)\n",
    "# plt.tight_layout()\n"
   ]
  },
  {
   "cell_type": "code",
   "execution_count": null,
   "metadata": {},
   "outputs": [],
   "source": [
    "def plot_categorical_counts_2(col_name, data, ax=None, **args):\n",
    "    \n",
    "    plot_data = pd.DataFrame(data[col_name] \\\n",
    "        .value_counts()) \\\n",
    "        .reset_index()\n",
    "\n",
    "    plot_data.columns = [col_name, 'count']\n",
    "    \n",
    "    \n",
    "    fig = plt.figure()\n",
    "    \n",
    "    if ax is None: \n",
    "        ax = fig.add_subplot()\n",
    "    \n",
    "    ax = sns.barplot(y='count', x=col_name, data=plot_data, ax=ax, **args)\n",
    "    ax.tick_params(axis='x', labelsize=14)\n",
    "    ax.tick_params(axis='y', labelsize=14)\n",
    "    ax.set_xlabel(col_name, fontsize=18)\n",
    "    ax.set_ylabel('Count', fontsize=18)\n",
    "\n",
    "    sns.despine(offset=10, trim=False, ax=ax)\n",
    "    plt.tight_layout()\n",
    "    return ax, fig\n",
    "\n"
   ]
  },
  {
   "cell_type": "code",
   "execution_count": 158,
   "metadata": {},
   "outputs": [
    {
     "data": {
      "image/png": "[encoded data removed]",
      "text/plain": [
       "<Figure size 792x648 with 2 Axes>"
      ]
     },
     "metadata": {},
     "output_type": "display_data"
    },
    {
     "data": {
      "text/plain": [
       "<Figure size 792x648 with 0 Axes>"
      ]
     },
     "metadata": {},
     "output_type": "display_data"
    },
    {
     "data": {
      "text/plain": [
       "<Figure size 792x648 with 0 Axes>"
      ]
     },
     "metadata": {},
     "output_type": "display_data"
    }
   ],
   "source": [
    "fig = plt.figure(constrained_layout=True)\n",
    "gs = gridspec.GridSpec(nrows=1, ncols=2, figure=fig)\n",
    "\n",
    "ax_00 = fig.add_subplot(gs[0, 0])\n",
    "ax_swb, _ = plot_categorical_counts('swab_type', data, ax=ax_00)   \n",
    "\n",
    "ax_01 = fig.add_subplot(gs[0, 1])\n",
    "ax_tst_res, _ = plot_categorical_counts('covid19_test_results', data, ax=ax_01) \n",
    "\n",
    "\n",
    "\n",
    "\n",
    "\n"
   ]
  }
 ],
 "metadata": {
  "kernelspec": {
   "display_name": "Python 3",
   "language": "python",
   "name": "python3"
  },
  "language_info": {
   "codemirror_mode": {
    "name": "ipython",
    "version": 3
   },
   "file_extension": ".py",
   "mimetype": "text/x-python",
   "name": "python",
   "nbconvert_exporter": "python",
   "pygments_lexer": "ipython3",
   "version": "3.6.5"
  }
 },
 "nbformat": 4,
 "nbformat_minor": 2
}
